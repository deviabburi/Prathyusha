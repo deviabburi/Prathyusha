{
  "nbformat": 4,
  "nbformat_minor": 0,
  "metadata": {
    "colab": {
      "provenance": [],
      "authorship_tag": "ABX9TyPVn94sx+EhwMFIMG/z1gLX",
      "include_colab_link": true
    },
    "kernelspec": {
      "name": "python3",
      "display_name": "Python 3"
    },
    "language_info": {
      "name": "python"
    }
  },
  "cells": [
    {
      "cell_type": "markdown",
      "metadata": {
        "id": "view-in-github",
        "colab_type": "text"
      },
      "source": [
        "<a href=\"https://colab.research.google.com/github/deviabburi/Prathyusha/blob/main/PROBABILITY_PERMUTATIONS_AND_COMBINATIONS_(19_11_2024).ipynb\" target=\"_parent\"><img src=\"https://colab.research.google.com/assets/colab-badge.svg\" alt=\"Open In Colab\"/></a>"
      ]
    },
    {
      "cell_type": "code",
      "source": [
        "#ASSGNMENT-1 PROBABILITY, PERMUTATIONS AND COMBINATIONS (19-11-2024)\n",
        "import math\n",
        "\n",
        "# Function to calculate combinations\n",
        "def combinations(n, k):\n",
        "    return math.comb(n, k)\n",
        "\n",
        "# 1. Total number of ways to form a committee (without restrictions)\n",
        "total_faculty = 10  # Total number of faculty members\n",
        "committee_size = 3  # Size of the committee\n",
        "\n",
        "total_ways = combinations(total_faculty, committee_size)\n",
        "\n",
        "# 2. Number of valid committees with at least 1 Mathematics Professor and at least 1 Science Professor\n",
        "math_professors = 6  # Number of Mathematics Professors\n",
        "science_professors = 4  # Number of Science Professors\n",
        "\n",
        "# Case 1: 2 Mathematics Professors and 1 Science Professor\n",
        "ways_2_math_1_science = combinations(math_professors, 2) * combinations(science_professors, 1)\n",
        "\n",
        "# Case 2: 1 Mathematics Professor and 2 Science Professors\n",
        "ways_1_math_2_science = combinations(math_professors, 1) * combinations(science_professors, 2)\n",
        "\n",
        "# Total valid committees with at least 1 Mathematics Professor and at least 1 Science Professor\n",
        "valid_ways = ways_2_math_1_science + ways_1_math_2_science\n",
        "\n",
        "# 3. Committees with only Mathematics Professors\n",
        "ways_only_math = combinations(math_professors, committee_size) if committee_size <= math_professors else 0\n",
        "\n",
        "# 4. Committees with only Science Professors\n",
        "ways_only_science = combinations(science_professors, committee_size) if committee_size <= science_professors else 0\n",
        "\n",
        "# 5. Set Theory\n",
        "# Set M (Mathematics Professors), Set S (Science Professors)\n",
        "M = set(range(1, 7))  # M is the set of Mathematics Professors (1 to 6)\n",
        "S = set(range(7, 11))  # S is the set of Science Professors (7 to 10)\n",
        "\n",
        "# Union M ∪ S (all faculty members)\n",
        "union_MS = M.union(S)\n",
        "\n",
        "# Intersection M ∩ S (no intersection, since no one is both)\n",
        "intersection_MS = M.intersection(S)\n",
        "\n",
        "# Complement of M (those who are not Mathematics Professors)\n",
        "complement_M = set(range(1, 11)) - M\n",
        "\n",
        "# Results\n",
        "print(f\"Total number of ways to form the committee (without restrictions): {total_ways}\")\n",
        "print(f\"Valid committees (at least 1 Mathematics Professor and 1 Science Professor): {valid_ways}\")\n",
        "print(f\"Committees with only Mathematics Professors: {ways_only_math}\")\n",
        "print(f\"Committees with only Science Professors: {ways_only_science}\")\n",
        "\n",
        "# Set Theory Results\n",
        "print(f\"Union of M and S (all faculty members): {union_MS}\")\n",
        "print(f\"Intersection of M and S (should be empty): {intersection_MS}\")\n",
        "print(f\"Complement of M (those not in M): {complement_M}\")"
      ],
      "metadata": {
        "id": "s57dL1sfmEY5",
        "colab": {
          "base_uri": "https://localhost:8080/"
        },
        "outputId": "24edb319-5589-4bdc-a205-e35f2faf6bac"
      },
      "execution_count": 1,
      "outputs": [
        {
          "output_type": "stream",
          "name": "stdout",
          "text": [
            "Total number of ways to form the committee (without restrictions): 120\n",
            "Valid committees (at least 1 Mathematics Professor and 1 Science Professor): 96\n",
            "Committees with only Mathematics Professors: 20\n",
            "Committees with only Science Professors: 4\n",
            "Union of M and S (all faculty members): {1, 2, 3, 4, 5, 6, 7, 8, 9, 10}\n",
            "Intersection of M and S (should be empty): set()\n",
            "Complement of M (those not in M): {8, 9, 10, 7}\n"
          ]
        }
      ]
    }
  ]
}