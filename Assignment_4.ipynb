{
  "nbformat": 4,
  "nbformat_minor": 0,
  "metadata": {
    "colab": {
      "provenance": [],
      "authorship_tag": "ABX9TyNFsLwF6ejah69YqHk9XzRW",
      "include_colab_link": true
    },
    "kernelspec": {
      "name": "python3",
      "display_name": "Python 3"
    },
    "language_info": {
      "name": "python"
    }
  },
  "cells": [
    {
      "cell_type": "markdown",
      "metadata": {
        "id": "view-in-github",
        "colab_type": "text"
      },
      "source": [
        "<a href=\"https://colab.research.google.com/github/deviabburi/Prathyusha/blob/main/Assignment_4.ipynb\" target=\"_parent\"><img src=\"https://colab.research.google.com/assets/colab-badge.svg\" alt=\"Open In Colab\"/></a>"
      ]
    },
    {
      "cell_type": "code",
      "execution_count": null,
      "metadata": {
        "id": "LB7aRVNwIvMK"
      },
      "outputs": [],
      "source": [
        "import pandas as pd\n",
        "\n",
        "# Sample DataFrame\n",
        "data = pd.read_csv('/content/DiabetesMissingData.csv')\n",
        "df = pd.DataFrame(data)\n",
        "\n",
        "# Checking for missing values\n",
        "print('-----------------------------Original Data-----------------------------------')\n",
        "print(df)  # or df.isna()\n",
        "print('-----------------------------------------------------------------------------')\n",
        "print('---------------Null values replaced with mean values-------------------------')\n",
        "print(df.fillna(df.mean()))  # or df.notna()\n",
        "print('-----------------------------------------------------------------------------')\n",
        "print('---------------Null values replaced with mode values-------------------------')\n",
        "print(df.apply(lambda col: col.fillna(col.mode()[0])))\n",
        "print('-----------------------------------------------------------------------------')\n",
        "print('---------------Null values replaced with median values-----------------------')\n",
        "print(df.fillna(df.median()))\n",
        "print('-----------------------------------------------------------------------------')"
      ]
    },
    {
      "cell_type": "code",
      "source": [
        "import pandas as pd\n",
        "import numpy as np\n",
        "import matplotlib.pyplot as plt\n",
        "import seaborn as sns\n",
        "\n",
        "# Sample data: Modify or use your own dataset\n",
        "data = [2, 4, 6, 8, 10, 12, 14, 16, 18, 20, 22, 24, 26, 28, 30, 100]\n",
        "#data = pd.read_csv('/content/DiabetesMissingData.csv')\n",
        "\n",
        "# Convert data to a pandas Series\n",
        "df = pd.Series(data)\n",
        "#df = pd.DataFrame(data)\n",
        "\n",
        "# Create a boxplot\n",
        "plt.figure(figsize=(8,6))\n",
        "sns.boxplot(x=df)\n",
        "\n",
        "# Show the plot\n",
        "plt.title(\"Boxplot with Outliers\")\n",
        "plt.show()\n",
        "\n",
        "# Calculate IQR (Interquartile Range) to identify outliers\n",
        "Q1 = df.quantile(0.25)\n",
        "Q3 = df.quantile(0.75)\n",
        "IQR = Q3 - Q1\n",
        "\n",
        "# Define the lower and upper bounds for outliers\n",
        "lower_bound = Q1 - 1.5 * IQR\n",
        "upper_bound = Q3 + 1.5 * IQR\n",
        "\n",
        "# Identify outliers (values below lower_bound or above upper_bound)\n",
        "outliers = df[(df < lower_bound) | (df > upper_bound)]\n",
        "\n",
        "print(f\"Lower bound: {lower_bound}\")\n",
        "print(f\"Upper bound: {upper_bound}\")\n",
        "print(f\"Outliers: {outliers.tolist()}\")"
      ],
      "metadata": {
        "id": "14wYPZaRO4py"
      },
      "execution_count": null,
      "outputs": []
    }
  ]
}