{
  "nbformat": 4,
  "nbformat_minor": 0,
  "metadata": {
    "colab": {
      "provenance": [],
      "authorship_tag": "ABX9TyOAzHnJUhWW49FMLIGVrYIE",
      "include_colab_link": true
    },
    "kernelspec": {
      "name": "python3",
      "display_name": "Python 3"
    },
    "language_info": {
      "name": "python"
    }
  },
  "cells": [
    {
      "cell_type": "markdown",
      "metadata": {
        "id": "view-in-github",
        "colab_type": "text"
      },
      "source": [
        "<a href=\"https://colab.research.google.com/github/deviabburi/Prathyusha/blob/main/Assignment_5.ipynb\" target=\"_parent\"><img src=\"https://colab.research.google.com/assets/colab-badge.svg\" alt=\"Open In Colab\"/></a>"
      ]
    },
    {
      "cell_type": "code",
      "execution_count": null,
      "metadata": {
        "id": "5PCrGDPhHm-M"
      },
      "outputs": [],
      "source": [
        "import matplotlib.pyplot as plt\n",
        "\n",
        "# Data\n",
        "x = [1, 2, 3, 4, 5]\n",
        "y = [2, 3, 5, 7, 11]\n",
        "\n",
        "# Create scatter plot\n",
        "plt.scatter(x, y)\n",
        "\n",
        "# Add title and labels\n",
        "plt.title('Scatter Plot')\n",
        "plt.xlabel('X Axis')\n",
        "plt.ylabel('Y Axis')\n",
        "\n",
        "# Display the plot\n",
        "plt.show()"
      ]
    },
    {
      "cell_type": "code",
      "source": [
        "# Data\n",
        "categories = ['A', 'B', 'C', 'D']\n",
        "values = [4, 7, 2, 5]\n",
        "\n",
        "# Create bar plot\n",
        "plt.bar(categories, values)\n",
        "\n",
        "# Add title and labels\n",
        "plt.title('Bar Plot')\n",
        "plt.xlabel('Categories')\n",
        "plt.ylabel('Values')\n",
        "\n",
        "# Display the plot\n",
        "plt.show()"
      ],
      "metadata": {
        "id": "PkTumJZP-6_D"
      },
      "execution_count": null,
      "outputs": []
    },
    {
      "cell_type": "code",
      "source": [
        "import matplotlib.pyplot as plt\n",
        "\n",
        "# Data\n",
        "x = [1, 2, 3, 4, 5]\n",
        "y = [2, 4, 6, 8, 10]\n",
        "\n",
        "# Create line plot\n",
        "plt.plot(x, y)\n",
        "\n",
        "# Add title and labels\n",
        "plt.title('Line Plot')\n",
        "plt.xlabel('X Axis')\n",
        "plt.ylabel('Y Axis')\n",
        "\n",
        "# Display the plot\n",
        "plt.show()"
      ],
      "metadata": {
        "id": "fRp1SRId_AAd"
      },
      "execution_count": null,
      "outputs": []
    },
    {
      "cell_type": "code",
      "source": [
        "import seaborn as sns\n",
        "import matplotlib.pyplot as plt\n",
        "import numpy as np\n",
        "\n",
        "# Data\n",
        "data = np.random.randn(1000)\n",
        "\n",
        "# Create histogram\n",
        "sns.histplot(data, kde=True)\n",
        "\n",
        "# Add title and labels\n",
        "plt.title('Histogram with KDE')\n",
        "plt.xlabel('Value')\n",
        "plt.ylabel('Frequency')\n",
        "\n",
        "# Display the plot\n",
        "plt.show()"
      ],
      "metadata": {
        "id": "6R8rNO81_hMP"
      },
      "execution_count": null,
      "outputs": []
    },
    {
      "cell_type": "code",
      "source": [
        "import seaborn as sns\n",
        "import matplotlib.pyplot as plt\n",
        "\n",
        "# Data\n",
        "data = [12, 14, 15, 16, 18, 20, 20, 21, 22, 23, 24]\n",
        "\n",
        "# Create box plot\n",
        "sns.boxplot(data=data)\n",
        "\n",
        "# Add title and labels\n",
        "plt.title('Box Plot')\n",
        "plt.ylabel('Values')\n",
        "\n",
        "# Display the plot\n",
        "plt.show()"
      ],
      "metadata": {
        "id": "5rToO5Ey_mXA"
      },
      "execution_count": null,
      "outputs": []
    },
    {
      "cell_type": "code",
      "source": [
        "import seaborn as sns\n",
        "import matplotlib.pyplot as plt\n",
        "import numpy as np\n",
        "\n",
        "# Create a random correlation matrix\n",
        "data = np.random.rand(10, 10)\n",
        "sns.heatmap(data, annot=True, cmap='coolwarm')\n",
        "\n",
        "# Add title\n",
        "plt.title('Heatmap')\n",
        "\n",
        "# Display the plot\n",
        "plt.show()"
      ],
      "metadata": {
        "id": "bVV3KlPy_xDU"
      },
      "execution_count": null,
      "outputs": []
    },
    {
      "cell_type": "code",
      "source": [
        "import seaborn as sns\n",
        "import matplotlib.pyplot as plt\n",
        "\n",
        "# Data\n",
        "tips = sns.load_dataset('tips')\n",
        "\n",
        "# Create violin plot\n",
        "sns.violinplot(x='day', y='total_bill', data=tips)\n",
        "\n",
        "# Add title\n",
        "plt.title('Violin Plot')\n",
        "\n",
        "# Display the plot\n",
        "plt.show()"
      ],
      "metadata": {
        "id": "oGo3XNy0AAhl"
      },
      "execution_count": null,
      "outputs": []
    },
    {
      "cell_type": "code",
      "source": [
        "import numpy as np\n",
        "\n",
        "# Parameters\n",
        "n = 10  # Number of trials\n",
        "p = 0.7  # Probability of success\n",
        "size = (3, 10)  # 3 sets of 10 samples\n",
        "\n",
        "# Generate binomial random samples\n",
        "samples = np.random.binomial(n, p, size)\n",
        "\n",
        "# Output the samples\n",
        "print(samples)"
      ],
      "metadata": {
        "id": "cbxtVDxeAWxX"
      },
      "execution_count": null,
      "outputs": []
    },
    {
      "cell_type": "code",
      "source": [
        "import numpy as np\n",
        "import matplotlib.pyplot as plt\n",
        "\n",
        "# Parameters\n",
        "n = 50  # Number of trials\n",
        "p = 0.3  # Probability of success\n",
        "size = 1000  # Number of random samples\n",
        "\n",
        "# Generate binomial random samples\n",
        "samples = np.random.binomial(n, p, size)\n",
        "\n",
        "# Plot histogram\n",
        "plt.hist(samples, bins=30, edgecolor='black', alpha=0.7)\n",
        "plt.title('Binomial Distribution (n=50, p=0.3)')\n",
        "plt.xlabel('Number of Successes')\n",
        "plt.ylabel('Frequency')\n",
        "plt.show()"
      ],
      "metadata": {
        "id": "degvXtaBAdhg"
      },
      "execution_count": null,
      "outputs": []
    },
    {
      "cell_type": "code",
      "source": [
        "import numpy as np\n",
        "\n",
        "# Parameters\n",
        "n = 20  # Number of trials\n",
        "p = 0.5  # Probability of success\n",
        "size = 10  # Number of random samples\n",
        "\n",
        "# Generate binomial random samples\n",
        "samples = np.random.binomial(n, p, size)\n",
        "\n",
        "# Output the samples\n",
        "print(samples)"
      ],
      "metadata": {
        "id": "1mBshYxnAkY-"
      },
      "execution_count": null,
      "outputs": []
    },
    {
      "cell_type": "code",
      "source": [
        "import numpy as np\n",
        "import matplotlib.pyplot as plt\n",
        "\n",
        "# Parameters\n",
        "n = 50  # Number of trials\n",
        "p = 0.3  # Probability of success on each trial\n",
        "size = 1000  # Number of random samples\n",
        "\n",
        "# Generate binomial random samples\n",
        "samples = np.random.binomial(n, p, size)\n",
        "\n",
        "# Plot histogram\n",
        "plt.hist(samples, bins=30, edgecolor='black', alpha=0.7)\n",
        "\n",
        "# Add titles and labels\n",
        "plt.title(f'Binomial Distribution (n={n}, p={p})')\n",
        "plt.xlabel('Number of Successes')\n",
        "plt.ylabel('Frequency')\n",
        "\n",
        "# Show plot\n",
        "plt.show()"
      ],
      "metadata": {
        "id": "mvZCcXNrA-M8"
      },
      "execution_count": null,
      "outputs": []
    },
    {
      "cell_type": "code",
      "source": [
        "import numpy as np\n",
        "import matplotlib.pyplot as plt\n",
        "from scipy.stats import binom\n",
        "\n",
        "# Parameters\n",
        "n = 50  # Number of trials\n",
        "p = 0.3  # Probability of success on each trial\n",
        "\n",
        "# Create an array of possible outcomes (0 to n successes)\n",
        "x = np.arange(0, n+1)\n",
        "\n",
        "# Get the binomial CDF\n",
        "cdf = binom.cdf(x, n, p)\n",
        "\n",
        "# Plot the CDF\n",
        "plt.plot(x, cdf, marker='o', linestyle='-', color='r')\n",
        "\n",
        "# Add titles and labels\n",
        "plt.title(f'Binomial Distribution CDF (n={n}, p={p})')\n",
        "plt.xlabel('Number of Successes')\n",
        "plt.ylabel('Cumulative Probability')\n",
        "\n",
        "# Show plot\n",
        "plt.show()"
      ],
      "metadata": {
        "id": "qZUd46ymBCJ_"
      },
      "execution_count": null,
      "outputs": []
    },
    {
      "cell_type": "code",
      "source": [
        "import numpy as np\n",
        "import matplotlib.pyplot as plt\n",
        "from scipy.stats import binom\n",
        "\n",
        "# Parameters\n",
        "n = 50  # Number of trials\n",
        "p = 0.3  # Probability of success on each trial\n",
        "\n",
        "# Create an array of possible outcomes (0 to n successes)\n",
        "x = np.arange(0, n+1)\n",
        "\n",
        "# Get the binomial PMF\n",
        "pmf = binom.pmf(x, n, p)\n",
        "\n",
        "# Plot the PMF\n",
        "plt.vlines(x, 0, pmf, colors='b', lw=5)\n",
        "plt.plot(x, pmf, 'bo', ms=8)\n",
        "\n",
        "# Add titles and labels\n",
        "plt.title(f'Binomial Distribution PMF (n={n}, p={p})')\n",
        "plt.xlabel('Number of Successes')\n",
        "plt.ylabel('Probability')\n",
        "\n",
        "# Show plot\n",
        "plt.show()"
      ],
      "metadata": {
        "id": "A3gS7TocBWcj"
      },
      "execution_count": null,
      "outputs": []
    },
    {
      "cell_type": "code",
      "source": [
        "import pandas as pd\n",
        "import seaborn as sns\n",
        "import matplotlib.pyplot as plt\n",
        "\n",
        "# Create a sample DataFrame\n",
        "data = {\n",
        "    'A': [1, 2, 3, 4, 5],\n",
        "    'B': [5, 4, 3, 2, 1],\n",
        "    'C': [2, 3, 4, 5, 6],\n",
        "    'D': [7, 8, 9, 10, 11]\n",
        "}\n",
        "\n",
        "df = pd.DataFrame(data)\n",
        "\n",
        "# Compute the correlation matrix\n",
        "corr_matrix = df.corr()\n",
        "\n",
        "# Display the correlation matrix\n",
        "print(\"Correlation Matrix:\")\n",
        "print(corr_matrix)\n",
        "\n",
        "# Visualize the correlation matrix using a heatmap\n",
        "plt.figure(figsize=(8, 6))\n",
        "sns.heatmap(corr_matrix, annot=True, cmap='coolwarm', linewidths=0.5)\n",
        "\n",
        "# Add title\n",
        "plt.title('Correlation Matrix Heatmap')\n",
        "\n",
        "# Show the plot\n",
        "plt.show()\n"
      ],
      "metadata": {
        "id": "Dn9KIz_TBzvN"
      },
      "execution_count": null,
      "outputs": []
    },
    {
      "cell_type": "code",
      "source": [
        "import numpy as np\n",
        "import pandas as pd\n",
        "import matplotlib.pyplot as plt\n",
        "from scipy import stats\n",
        "\n",
        "# Simulate user data\n",
        "np.random.seed(42)\n",
        "\n",
        "# Parameters for the test\n",
        "n_users = 1000  # Total number of users\n",
        "conversion_rate_a = 0.1  # Conversion rate for group A (10%)\n",
        "conversion_rate_b = 0.12  # Conversion rate for group B (12%)\n",
        "\n",
        "# Assign users to either group A or B\n",
        "user_groups = np.random.choice(['A', 'B'], size=n_users)\n",
        "\n",
        "# Simulate conversions based on the conversion rates\n",
        "conversions = np.array([1 if group == 'A' and np.random.rand() < conversion_rate_a else\n",
        "                        1 if group == 'B' and np.random.rand() < conversion_rate_b else 0\n",
        "                        for group in user_groups])\n",
        "\n",
        "# Create a DataFrame with results\n",
        "df = pd.DataFrame({'group': user_groups, 'converted': conversions})\n",
        "\n",
        "# Calculate conversion rates for each group\n",
        "conversion_rate_a_actual = df[df['group'] == 'A']['converted'].mean()\n",
        "conversion_rate_b_actual = df[df['group'] == 'B']['converted'].mean()\n",
        "\n",
        "print(f\"Conversion rate for Group A: {conversion_rate_a_actual:.4f}\")\n",
        "print(f\"Conversion rate for Group B: {conversion_rate_b_actual:.4f}\")\n",
        "\n",
        "# Statistical Test (T-test) to check if the difference is statistically significant\n",
        "group_a_conversions = df[df['group'] == 'A']['converted']\n",
        "group_b_conversions = df[df['group'] == 'B']['converted']\n",
        "\n",
        "t_stat, p_value = stats.ttest_ind(group_a_conversions, group_b_conversions)\n",
        "\n",
        "print(f\"T-statistic: {t_stat:.4f}\")\n",
        "print(f\"P-value: {p_value:.4f}\")\n",
        "\n",
        "# Interpret the results\n",
        "if p_value < 0.05:\n",
        "    print(\"The difference in conversion rates is statistically significant!\")\n",
        "else:\n",
        "    print(\"The difference in conversion rates is not statistically significant.\")\n",
        "\n",
        "# Visualizing the conversion rates\n",
        "plt.figure(figsize=(8, 5))\n",
        "df.groupby('group')['converted'].mean().plot(kind='bar', color=['skyblue', 'lightgreen'])\n",
        "plt.title('Conversion Rates for Group A vs Group B')\n",
        "plt.ylabel('Conversion Rate')\n",
        "plt.xticks(rotation=0)\n",
        "plt.show()\n"
      ],
      "metadata": {
        "id": "G0yQeXgmCs6L"
      },
      "execution_count": null,
      "outputs": []
    }
  ]
}