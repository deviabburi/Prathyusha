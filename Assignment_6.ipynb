{
  "nbformat": 4,
  "nbformat_minor": 0,
  "metadata": {
    "colab": {
      "provenance": [],
      "authorship_tag": "ABX9TyMFUONRvGNtPEpL45o+kWXk",
      "include_colab_link": true
    },
    "kernelspec": {
      "name": "python3",
      "display_name": "Python 3"
    },
    "language_info": {
      "name": "python"
    }
  },
  "cells": [
    {
      "cell_type": "markdown",
      "metadata": {
        "id": "view-in-github",
        "colab_type": "text"
      },
      "source": [
        "<a href=\"https://colab.research.google.com/github/deviabburi/Prathyusha/blob/main/Assignment_6.ipynb\" target=\"_parent\"><img src=\"https://colab.research.google.com/assets/colab-badge.svg\" alt=\"Open In Colab\"/></a>"
      ]
    },
    {
      "cell_type": "code",
      "execution_count": null,
      "metadata": {
        "id": "3EWhtP7RsofG"
      },
      "outputs": [],
      "source": [
        "import numpy as np\n",
        "import pandas as pd\n",
        "import matplotlib.pyplot as plt\n",
        "from scipy import stats\n",
        "\n",
        "# Simulate user data\n",
        "np.random.seed(42)\n",
        "\n",
        "# Parameters for the test\n",
        "n_users = 1000  # Total number of users\n",
        "conversion_rate_a = 0.1  # Conversion rate for group A (10%)\n",
        "conversion_rate_b = 0.12  # Conversion rate for group B (12%)\n",
        "\n",
        "# Assign users to either group A or B\n",
        "user_groups = np.random.choice(['A', 'B'], size=n_users)\n",
        "\n",
        "# Simulate conversions based on the conversion rates\n",
        "conversions = np.array([1 if group == 'A' and np.random.rand() < conversion_rate_a else\n",
        "                        1 if group == 'B' and np.random.rand() < conversion_rate_b else 0\n",
        "                        for group in user_groups])\n",
        "\n",
        "# Create a DataFrame with results\n",
        "df = pd.DataFrame({'group': user_groups, 'converted': conversions})\n",
        "\n",
        "# Calculate conversion rates for each group\n",
        "conversion_rate_a_actual = df[df['group'] == 'A']['converted'].mean()\n",
        "conversion_rate_b_actual = df[df['group'] == 'B']['converted'].mean()\n",
        "\n",
        "print(f\"Conversion rate for Group A: {conversion_rate_a_actual:.4f}\")\n",
        "print(f\"Conversion rate for Group B: {conversion_rate_b_actual:.4f}\")\n",
        "\n",
        "# Statistical Test (T-test) to check if the difference is statistically significant\n",
        "group_a_conversions = df[df['group'] == 'A']['converted']\n",
        "group_b_conversions = df[df['group'] == 'B']['converted']\n",
        "\n",
        "t_stat, p_value = stats.ttest_ind(group_a_conversions, group_b_conversions)\n",
        "\n",
        "print(f\"T-statistic: {t_stat:.4f}\")\n",
        "print(f\"P-value: {p_value:.4f}\")\n",
        "\n",
        "# Interpret the results\n",
        "if p_value < 0.05:\n",
        "    print(\"The difference in conversion rates is statistically significant!\")\n",
        "else:\n",
        "    print(\"The difference in conversion rates is not statistically significant.\")\n",
        "\n",
        "# Visualizing the conversion rates\n",
        "plt.figure(figsize=(8, 5))\n",
        "df.groupby('group')['converted'].mean().plot(kind='bar', color=['skyblue', 'lightgreen'])\n",
        "plt.title('Conversion Rates for Group A vs Group B')\n",
        "plt.ylabel('Conversion Rate')\n",
        "plt.xticks(rotation=0)\n",
        "plt.show()"
      ]
    }
  ]
}